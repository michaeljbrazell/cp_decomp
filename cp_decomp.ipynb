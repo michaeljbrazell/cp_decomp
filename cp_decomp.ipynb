{
 "cells": [
  {
   "cell_type": "markdown",
   "metadata": {},
   "source": [
    "This is a simple Julia 0.6 notebook. Below we'll show off the Julia `PyPlot` module."
   ]
  },
  {
   "cell_type": "code",
   "execution_count": 62,
   "metadata": {},
   "outputs": [],
   "source": [
    "d=4;\n",
    "S=5;\n",
    "T=6;\n",
    "R=7;"
   ]
  },
  {
   "cell_type": "code",
   "execution_count": 63,
   "metadata": {},
   "outputs": [],
   "source": [
    "Kx=rand(d,R);\n",
    "Ky=rand(d,R);\n",
    "Ks=rand(S,R);\n",
    "Kt=rand(T,R);\n",
    "U=rand(d,d,S);\n",
    "\n",
    "K=zeros(d,d,S,T);\n",
    "V=zeros(T);"
   ]
  },
  {
   "cell_type": "code",
   "execution_count": 64,
   "metadata": {},
   "outputs": [],
   "source": [
    "# build up K\n",
    "for i=1:d\n",
    "    for j=1:d\n",
    "        for s=1:S\n",
    "            for t=1:T\n",
    "                for r=1:R\n",
    "                    K[i,j,s,t] += Kx[i,r]*Ky[j,r]*Ks[s,r]*Kt[t,r];\n",
    "                end\n",
    "            end\n",
    "        end\n",
    "    end\n",
    "end\n"
   ]
  },
  {
   "cell_type": "code",
   "execution_count": 65,
   "metadata": {
    "scrolled": true
   },
   "outputs": [
    {
     "data": {
      "text/plain": [
       "0.079794161"
      ]
     },
     "execution_count": 65,
     "metadata": {},
     "output_type": "execute_result"
    },
    {
     "name": "stdout",
     "output_type": "stream",
     "text": [
      "elapsed time: 0.079794161 seconds\n"
     ]
    }
   ],
   "source": [
    "# equation 3 slow way\n",
    "tic()\n",
    "for t=1:T\n",
    "    for i=1:d\n",
    "        for j=1:d\n",
    "            for s=1:S\n",
    "                V[t] += K[i,j,s,t]*U[i,j,s];\n",
    "            end\n",
    "        end\n",
    "    end\n",
    "end\n",
    "toc()\n"
   ]
  },
  {
   "cell_type": "code",
   "execution_count": 71,
   "metadata": {},
   "outputs": [
    {
     "data": {
      "text/plain": [
       "8.881784197001252e-15"
      ]
     },
     "execution_count": 71,
     "metadata": {},
     "output_type": "execute_result"
    },
    {
     "name": "stdout",
     "output_type": "stream",
     "text": [
      "elapsed time: 0.061927717 seconds\n"
     ]
    }
   ],
   "source": [
    "Us=zeros(d,d,R);\n",
    "Usy=zeros(d,R);\n",
    "Usyx=zeros(R);\n",
    "Vfast=zeros(T);\n",
    "\n",
    "tic()\n",
    "\n",
    "# this can be a matrix multiply after some reshapes\n",
    "# Ur = reshape(U,(d*d,S));\n",
    "# UrKs = Ur*Ks;\n",
    "# Us = reshape(UrKs,(d,d,R));\n",
    "# or all at once if it saves some allocations\n",
    "Us=reshape(reshape(U,(d*d,S))*Ks,(d,d,R));\n",
    "\n",
    "# this one is trickier, just make sure loop is cache efficient I guess\n",
    "for i=1:d\n",
    "    for j=1:d\n",
    "        for r=1:R\n",
    "            Usy[i,r] += Ky[j,r]*Us[i,j,r];\n",
    "        end\n",
    "    end\n",
    "end\n",
    "\n",
    "# these are just a bunch of inner products\n",
    "for r=1:R\n",
    "    Usyx[r] = Kx[:,r]'*Usy[:,r]\n",
    "end\n",
    "\n",
    "# matrix vector product\n",
    "Vfast=Kt*Usyx\n",
    "\n",
    "toc()\n",
    "\n",
    "norm(V-Vfast)"
   ]
  },
  {
   "cell_type": "code",
   "execution_count": null,
   "metadata": {},
   "outputs": [],
   "source": [
    "\n"
   ]
  },
  {
   "cell_type": "code",
   "execution_count": null,
   "metadata": {},
   "outputs": [],
   "source": []
  },
  {
   "cell_type": "code",
   "execution_count": null,
   "metadata": {},
   "outputs": [],
   "source": []
  },
  {
   "cell_type": "code",
   "execution_count": null,
   "metadata": {},
   "outputs": [],
   "source": [
    "\n"
   ]
  },
  {
   "cell_type": "code",
   "execution_count": null,
   "metadata": {},
   "outputs": [],
   "source": []
  }
 ],
 "metadata": {
  "kernelspec": {
   "display_name": "Julia 0.6.0",
   "language": "julia",
   "name": "julia-0.6"
  },
  "language_info": {
   "file_extension": ".jl",
   "mimetype": "application/julia",
   "name": "julia",
   "version": "0.6.0"
  }
 },
 "nbformat": 4,
 "nbformat_minor": 2
}
